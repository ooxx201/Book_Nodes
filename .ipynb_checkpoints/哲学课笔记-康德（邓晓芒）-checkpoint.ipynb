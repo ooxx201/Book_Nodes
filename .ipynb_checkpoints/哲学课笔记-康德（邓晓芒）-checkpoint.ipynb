{
 "cells": [
  {
   "cell_type": "markdown",
   "id": "1217adda",
   "metadata": {},
   "source": [
    "## 康德哲学，也就是批判哲学，在人类理性的根基上进行批判。主题，解决人是什么的问题，核心是探讨人的问题。 \n",
    "**人是什么**：\n",
    "- 我能够知道什么\n",
    "- 我应当做什么\n",
    "- 我可以希望什么"
   ]
  },
  {
   "cell_type": "markdown",
   "id": "6698a524",
   "metadata": {},
   "source": [
    "批判哲学：\n",
    " - 纯粹理性批判：  \n",
    "     认识论，**人为自然立法**，科学规律是人建立的。 \n",
    " - 实践理性批判：  \n",
    "     人的欲望，意志能力，引申到道德领域。纯粹实践理性就是道德原则。**人为自己立法就是道德**，人的自律，用自由意志限制自己的自由意志，用自由意志的规律作为自由意志遵循的准则。\n",
    " - 判断力批判：  \n",
    "     人的情感能力探讨，前两者的桥梁，**通过审美，自然目的论沟通认识跟道德**。\n",
    " "
   ]
  },
  {
   "cell_type": "markdown",
   "id": "f3ee69d6",
   "metadata": {},
   "source": [
    "建立两大形而上学体系：\n",
    "- 自然科学形而上学\n",
    "- 道德形而上学"
   ]
  },
  {
   "cell_type": "markdown",
   "id": "f1cbcc20",
   "metadata": {},
   "source": [
    "## 认识论"
   ]
  },
  {
   "cell_type": "markdown",
   "id": "1b9abaa9",
   "metadata": {},
   "source": [
    "### 1 休谟的挑战  \n",
    "1. **怀疑论**： 只相信感觉直觉印象，除此之外，对一切都加以怀疑。  \n",
    "    1.1 怀疑因果律： \n",
    "        - 两件事先后发生，无论重复多少次也没有必然性。休谟认为因果关系是抽象概念，是人脑的思维习惯，实际上无法通过感觉确认其存在。\n",
    "        - 枚举归纳只有或然性，没有必然性。\n",
    "        - 自然科学应该有普遍必然性，受到怀疑论的挑战。   \n",
    "    1.2 怀疑实体性：\n",
    "        - 怀疑实体的统一性： 事物的同一性，人格的同一性。\n",
    "        - 昨天的我跟今天的我是同一个人吗？\n",
    "        - 由此得出记忆中的印象也不可靠，只有直接的第一印象才可靠。\n",
    "        \n",
    "    1.3 彻底的怀疑论造成自然科学的危机。\n",
    "    \n",
    "    \n",
    "2. 康德的回应  \n",
    "    2.1 人能够获得感觉说明人具有接受感觉的能力。  \n",
    "    2.2 要追溯人认识的能力，感性能力，知性能力，理性能力。  \n",
    "        - 科学知识是无法怀疑的，问题在于科学知识建立在什么之上。何以可能。"
   ]
  },
  {
   "cell_type": "markdown",
   "id": "0c69a97a",
   "metadata": {},
   "source": [
    "### 2 经验论和唯理论的调和：  \n",
    "- 任何一个经验既包含有**后天经验性的成分**，即自在之物（它本身不可认知）刺激我们感官形成的的各种知觉和印象，同时也包含有**先天的成份**，这就是先天的直观形式（空间和时间）以及知性的纯粹概念（诸范畴）。\n",
    "- 一切知识都是由经验中的先天成分和后天成分复合而成的。  \n",
    "\n",
    "比如说我感觉到了红色，必须现有时间预计空间的概念，没有时间空间的红色是不可能被感觉到的。\n",
    "比如任何发生的事情都有原因，这个是先天的，也是必然的。"
   ]
  },
  {
   "cell_type": "markdown",
   "id": "af6f4ca7",
   "metadata": {},
   "source": [
    "### 3 对传统认识论的颠倒\n",
    "- 认识的过程不是对象为我们立法，而是“人为自然立法”。\n",
    "- 以往关于真理的“观念符合对象”的独断论定义被改造成了“对象符合观念”的批判哲学的定义。  \n",
    "\n",
    "    3.1 人的先天认识能力是认识的普遍必然性的保障。\n",
    "    3.2 人并不是单纯的自然界的学生。人面对自然界，一手持着原理，一手拿着实验，去迫使自然界回答我们所提出的问题。"
   ]
  },
  {
   "cell_type": "markdown",
   "id": "d43ab47a",
   "metadata": {},
   "source": []
  },
  {
   "cell_type": "code",
   "execution_count": null,
   "id": "25de1c88",
   "metadata": {},
   "outputs": [],
   "source": []
  },
  {
   "cell_type": "code",
   "execution_count": 48,
   "id": "8c741267",
   "metadata": {},
   "outputs": [
    {
     "data": {
      "text/plain": [
       "873.6"
      ]
     },
     "execution_count": 48,
     "metadata": {},
     "output_type": "execute_result"
    }
   ],
   "source": [
    "(3 + 8 + 10.3 * 3 + 3.9) * 17 + 45 + 50"
   ]
  },
  {
   "cell_type": "code",
   "execution_count": null,
   "id": "a66dd2cd",
   "metadata": {},
   "outputs": [],
   "source": []
  }
 ],
 "metadata": {
  "kernelspec": {
   "display_name": "Python 3 (ipykernel)",
   "language": "python",
   "name": "python3"
  },
  "language_info": {
   "codemirror_mode": {
    "name": "ipython",
    "version": 3
   },
   "file_extension": ".py",
   "mimetype": "text/x-python",
   "name": "python",
   "nbconvert_exporter": "python",
   "pygments_lexer": "ipython3",
   "version": "3.8.3"
  }
 },
 "nbformat": 4,
 "nbformat_minor": 5
}
